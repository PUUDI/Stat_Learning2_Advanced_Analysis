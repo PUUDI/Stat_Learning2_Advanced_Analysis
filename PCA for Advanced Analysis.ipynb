{
 "cells": [
  {
   "cell_type": "markdown",
   "id": "3f2df4b2",
   "metadata": {},
   "source": [
    "# Importing the necessary libraries"
   ]
  },
  {
   "cell_type": "code",
   "execution_count": 51,
   "id": "20ba1b9a",
   "metadata": {},
   "outputs": [],
   "source": [
    "import pandas as pd\n",
    "import numpy as np\n",
    "import matplotlib.pyplot as plt\n",
    "import imblearn\n",
    "from sklearn.model_selection import train_test_split\n",
    "from sklearn.pipeline import Pipeline\n",
    "from sklearn.tree import DecisionTreeRegressor\n",
    "from imblearn.over_sampling import SMOTE\n",
    "from imblearn.over_sampling import SMOTENC\n",
    "from sklearn.metrics import confusion_matrix #confusion_matrix\n",
    "from sklearn.metrics import roc_auc_score, roc_curve #metrics\n",
    "from sklearn.model_selection import cross_val_score #cross validation\n",
    "from sklearn.model_selection import GridSearchCV #find best parameter \n",
    "from sklearn.ensemble import RandomForestClassifier #ML model\n",
    "from sklearn.tree import DecisionTreeClassifier #ML model\n",
    "from sklearn.model_selection import KFold #cross validation by kfold\n",
    "from prince import PCA\n",
    "from prince import MCA\n",
    "from sklearn.preprocessing import StandardScaler\n",
    "%matplotlib inline"
   ]
  },
  {
   "cell_type": "markdown",
   "id": "e9b74169",
   "metadata": {},
   "source": [
    "# Importing the data and deleting brand"
   ]
  },
  {
   "cell_type": "code",
   "execution_count": 52,
   "id": "bff6ed22",
   "metadata": {},
   "outputs": [],
   "source": [
    "df=pd.read_csv(\"C:\\\\Users\\\\Acer\\\\Desktop\\\\Advanced Analysis\\\\Data.csv\")"
   ]
  },
  {
   "cell_type": "code",
   "execution_count": 53,
   "id": "667b4c87",
   "metadata": {},
   "outputs": [],
   "source": [
    "del(df[\"Brand\"])"
   ]
  },
  {
   "cell_type": "markdown",
   "id": "3be65b07",
   "metadata": {},
   "source": [
    "# Creating a dataframe of the Quantitative columns"
   ]
  },
  {
   "cell_type": "code",
   "execution_count": 54,
   "id": "3a995d05",
   "metadata": {},
   "outputs": [
    {
     "data": {
      "text/html": [
       "<div>\n",
       "<style scoped>\n",
       "    .dataframe tbody tr th:only-of-type {\n",
       "        vertical-align: middle;\n",
       "    }\n",
       "\n",
       "    .dataframe tbody tr th {\n",
       "        vertical-align: top;\n",
       "    }\n",
       "\n",
       "    .dataframe thead th {\n",
       "        text-align: right;\n",
       "    }\n",
       "</style>\n",
       "<table border=\"1\" class=\"dataframe\">\n",
       "  <thead>\n",
       "    <tr style=\"text-align: right;\">\n",
       "      <th></th>\n",
       "      <th>Rate Count</th>\n",
       "      <th>ABV</th>\n",
       "      <th>Rating</th>\n",
       "      <th>Price</th>\n",
       "    </tr>\n",
       "  </thead>\n",
       "  <tbody>\n",
       "    <tr>\n",
       "      <th>0</th>\n",
       "      <td>1</td>\n",
       "      <td>0.139</td>\n",
       "      <td>5.0</td>\n",
       "      <td>20.99</td>\n",
       "    </tr>\n",
       "    <tr>\n",
       "      <th>1</th>\n",
       "      <td>1</td>\n",
       "      <td>0.145</td>\n",
       "      <td>5.0</td>\n",
       "      <td>21.99</td>\n",
       "    </tr>\n",
       "    <tr>\n",
       "      <th>2</th>\n",
       "      <td>1</td>\n",
       "      <td>0.142</td>\n",
       "      <td>5.0</td>\n",
       "      <td>23.99</td>\n",
       "    </tr>\n",
       "    <tr>\n",
       "      <th>3</th>\n",
       "      <td>1</td>\n",
       "      <td>0.147</td>\n",
       "      <td>5.0</td>\n",
       "      <td>19.99</td>\n",
       "    </tr>\n",
       "    <tr>\n",
       "      <th>4</th>\n",
       "      <td>1</td>\n",
       "      <td>0.146</td>\n",
       "      <td>5.0</td>\n",
       "      <td>27.99</td>\n",
       "    </tr>\n",
       "  </tbody>\n",
       "</table>\n",
       "</div>"
      ],
      "text/plain": [
       "   Rate Count    ABV  Rating  Price\n",
       "0           1  0.139     5.0  20.99\n",
       "1           1  0.145     5.0  21.99\n",
       "2           1  0.142     5.0  23.99\n",
       "3           1  0.147     5.0  19.99\n",
       "4           1  0.146     5.0  27.99"
      ]
     },
     "execution_count": 54,
     "metadata": {},
     "output_type": "execute_result"
    }
   ],
   "source": [
    "numcols = df.select_dtypes(['number']).columns\n",
    "df[numcols].head()"
   ]
  },
  {
   "cell_type": "markdown",
   "id": "0fc487f4",
   "metadata": {},
   "source": [
    "# Creating a dataframe of the categorical columns"
   ]
  },
  {
   "cell_type": "code",
   "execution_count": 55,
   "id": "29245576",
   "metadata": {},
   "outputs": [
    {
     "data": {
      "text/html": [
       "<div>\n",
       "<style scoped>\n",
       "    .dataframe tbody tr th:only-of-type {\n",
       "        vertical-align: middle;\n",
       "    }\n",
       "\n",
       "    .dataframe tbody tr th {\n",
       "        vertical-align: top;\n",
       "    }\n",
       "\n",
       "    .dataframe thead th {\n",
       "        text-align: right;\n",
       "    }\n",
       "</style>\n",
       "<table border=\"1\" class=\"dataframe\">\n",
       "  <thead>\n",
       "    <tr style=\"text-align: right;\">\n",
       "      <th></th>\n",
       "      <th>Country</th>\n",
       "      <th>Suggested Glassware</th>\n",
       "      <th>Suggested Serving Temperature</th>\n",
       "      <th>Sweet-Dry Scale</th>\n",
       "      <th>Body</th>\n",
       "      <th>Type of Wine</th>\n",
       "    </tr>\n",
       "  </thead>\n",
       "  <tbody>\n",
       "    <tr>\n",
       "      <th>0</th>\n",
       "      <td>France</td>\n",
       "      <td>Bordeaux Glass</td>\n",
       "      <td>60-65° F</td>\n",
       "      <td>Dry Wine</td>\n",
       "      <td>Medium</td>\n",
       "      <td>Red Wine</td>\n",
       "    </tr>\n",
       "    <tr>\n",
       "      <th>1</th>\n",
       "      <td>France</td>\n",
       "      <td>Bordeaux Glass</td>\n",
       "      <td>60-65° F</td>\n",
       "      <td>Dry Wine</td>\n",
       "      <td>Medium</td>\n",
       "      <td>Red Wine</td>\n",
       "    </tr>\n",
       "    <tr>\n",
       "      <th>2</th>\n",
       "      <td>France</td>\n",
       "      <td>Bordeaux Glass</td>\n",
       "      <td>60-65° F</td>\n",
       "      <td>Dry Wine</td>\n",
       "      <td>Full</td>\n",
       "      <td>Red Wine</td>\n",
       "    </tr>\n",
       "    <tr>\n",
       "      <th>3</th>\n",
       "      <td>United States</td>\n",
       "      <td>Bordeaux Glass</td>\n",
       "      <td>60-65° F</td>\n",
       "      <td>Dry Wine</td>\n",
       "      <td>Full</td>\n",
       "      <td>Red Wine</td>\n",
       "    </tr>\n",
       "    <tr>\n",
       "      <th>4</th>\n",
       "      <td>United States</td>\n",
       "      <td>Bordeaux Glass</td>\n",
       "      <td>60-65° F</td>\n",
       "      <td>Dry Wine</td>\n",
       "      <td>Full</td>\n",
       "      <td>Red Wine</td>\n",
       "    </tr>\n",
       "  </tbody>\n",
       "</table>\n",
       "</div>"
      ],
      "text/plain": [
       "         Country Suggested Glassware Suggested Serving Temperature  \\\n",
       "0         France      Bordeaux Glass                      60-65° F   \n",
       "1         France      Bordeaux Glass                      60-65° F   \n",
       "2         France      Bordeaux Glass                      60-65° F   \n",
       "3  United States      Bordeaux Glass                      60-65° F   \n",
       "4  United States      Bordeaux Glass                      60-65° F   \n",
       "\n",
       "  Sweet-Dry Scale    Body Type of Wine  \n",
       "0        Dry Wine  Medium     Red Wine  \n",
       "1        Dry Wine  Medium     Red Wine  \n",
       "2        Dry Wine    Full     Red Wine  \n",
       "3        Dry Wine    Full     Red Wine  \n",
       "4        Dry Wine    Full     Red Wine  "
      ]
     },
     "execution_count": 55,
     "metadata": {},
     "output_type": "execute_result"
    }
   ],
   "source": [
    "catcols = df.select_dtypes(['object']).columns\n",
    "df[catcols].head()"
   ]
  },
  {
   "cell_type": "markdown",
   "id": "5f7f7d86",
   "metadata": {},
   "source": [
    "# Seperating the target column"
   ]
  },
  {
   "cell_type": "code",
   "execution_count": 56,
   "id": "8a6bca09",
   "metadata": {},
   "outputs": [],
   "source": [
    "df[\"Price\"]=[0 if i<=16.97 else 1 for i in df[\"Price\"]]"
   ]
  },
  {
   "cell_type": "code",
   "execution_count": 57,
   "id": "77058a59",
   "metadata": {},
   "outputs": [],
   "source": [
    "Price = df['Price']\n",
    "# goodbye target column\n",
    "df = df.drop(['Price'],axis=1)"
   ]
  },
  {
   "cell_type": "markdown",
   "id": "85b633ed",
   "metadata": {},
   "source": [
    "# Updating the categorical columns"
   ]
  },
  {
   "cell_type": "code",
   "execution_count": 58,
   "id": "db25fe26",
   "metadata": {},
   "outputs": [],
   "source": [
    "# update catcols variable\n",
    "catcols = df.select_dtypes(['object']).columns\n",
    "\n",
    "# convert object columns to categorical columns\n",
    "df[catcols] = df[catcols].astype('category')"
   ]
  },
  {
   "cell_type": "markdown",
   "id": "c81d2359",
   "metadata": {},
   "source": [
    "# Identifying the PCA cols and MCA cols"
   ]
  },
  {
   "cell_type": "code",
   "execution_count": 59,
   "id": "8103b7fd",
   "metadata": {},
   "outputs": [
    {
     "name": "stdout",
     "output_type": "stream",
     "text": [
      "3 features used for PCA are ['Rate Count', 'ABV', 'Rating']\n"
     ]
    }
   ],
   "source": [
    "pca_cols = df.select_dtypes(['number']).columns\n",
    "print(len(pca_cols), 'features used for PCA are', pca_cols.tolist())"
   ]
  },
  {
   "cell_type": "code",
   "execution_count": 60,
   "id": "52cbc8cf",
   "metadata": {},
   "outputs": [
    {
     "name": "stdout",
     "output_type": "stream",
     "text": [
      "6 features used for MCA are ['Country', 'Suggested Glassware', 'Suggested Serving Temperature', 'Sweet-Dry Scale', 'Body', 'Type of Wine']\n"
     ]
    }
   ],
   "source": [
    "mca_cols = df.select_dtypes(['category']).columns\n",
    "print(len(mca_cols), 'features used for MCA are', mca_cols.tolist())"
   ]
  },
  {
   "cell_type": "markdown",
   "id": "dbbe5f40",
   "metadata": {},
   "source": [
    "# Doing the correspondance analysis"
   ]
  },
  {
   "cell_type": "code",
   "execution_count": 61,
   "id": "da471b95",
   "metadata": {},
   "outputs": [],
   "source": [
    "# instantiate MCA class\n",
    "mca = MCA(n_components = 6)\n",
    "\n",
    "# get principal components\n",
    "mca = mca.fit(df[mca_cols])"
   ]
  },
  {
   "cell_type": "code",
   "execution_count": 62,
   "id": "be388eb1",
   "metadata": {},
   "outputs": [
    {
     "data": {
      "text/html": [
       "<div>\n",
       "<style scoped>\n",
       "    .dataframe tbody tr th:only-of-type {\n",
       "        vertical-align: middle;\n",
       "    }\n",
       "\n",
       "    .dataframe tbody tr th {\n",
       "        vertical-align: top;\n",
       "    }\n",
       "\n",
       "    .dataframe thead th {\n",
       "        text-align: right;\n",
       "    }\n",
       "</style>\n",
       "<table border=\"1\" class=\"dataframe\">\n",
       "  <thead>\n",
       "    <tr style=\"text-align: right;\">\n",
       "      <th></th>\n",
       "      <th>0</th>\n",
       "      <th>1</th>\n",
       "      <th>2</th>\n",
       "      <th>3</th>\n",
       "      <th>4</th>\n",
       "      <th>5</th>\n",
       "    </tr>\n",
       "  </thead>\n",
       "  <tbody>\n",
       "    <tr>\n",
       "      <th>0</th>\n",
       "      <td>-0.643494</td>\n",
       "      <td>0.217742</td>\n",
       "      <td>-0.080103</td>\n",
       "      <td>0.054769</td>\n",
       "      <td>-0.126748</td>\n",
       "      <td>-0.236955</td>\n",
       "    </tr>\n",
       "    <tr>\n",
       "      <th>1</th>\n",
       "      <td>-0.643494</td>\n",
       "      <td>0.217742</td>\n",
       "      <td>-0.080103</td>\n",
       "      <td>0.054769</td>\n",
       "      <td>-0.126748</td>\n",
       "      <td>-0.236955</td>\n",
       "    </tr>\n",
       "    <tr>\n",
       "      <th>2</th>\n",
       "      <td>-0.521087</td>\n",
       "      <td>-0.168381</td>\n",
       "      <td>-0.047913</td>\n",
       "      <td>0.030340</td>\n",
       "      <td>-0.308563</td>\n",
       "      <td>-0.245342</td>\n",
       "    </tr>\n",
       "    <tr>\n",
       "      <th>3</th>\n",
       "      <td>-0.626337</td>\n",
       "      <td>-0.122811</td>\n",
       "      <td>-0.079561</td>\n",
       "      <td>-0.001726</td>\n",
       "      <td>-0.596639</td>\n",
       "      <td>-0.317613</td>\n",
       "    </tr>\n",
       "    <tr>\n",
       "      <th>4</th>\n",
       "      <td>-0.626337</td>\n",
       "      <td>-0.122811</td>\n",
       "      <td>-0.079561</td>\n",
       "      <td>-0.001726</td>\n",
       "      <td>-0.596639</td>\n",
       "      <td>-0.317613</td>\n",
       "    </tr>\n",
       "  </tbody>\n",
       "</table>\n",
       "</div>"
      ],
      "text/plain": [
       "          0         1         2         3         4         5\n",
       "0 -0.643494  0.217742 -0.080103  0.054769 -0.126748 -0.236955\n",
       "1 -0.643494  0.217742 -0.080103  0.054769 -0.126748 -0.236955\n",
       "2 -0.521087 -0.168381 -0.047913  0.030340 -0.308563 -0.245342\n",
       "3 -0.626337 -0.122811 -0.079561 -0.001726 -0.596639 -0.317613\n",
       "4 -0.626337 -0.122811 -0.079561 -0.001726 -0.596639 -0.317613"
      ]
     },
     "execution_count": 62,
     "metadata": {},
     "output_type": "execute_result"
    }
   ],
   "source": [
    "\n",
    "cat_columns_mca = mca.transform(df[mca_cols])\n",
    "cat_columns_mca.head()"
   ]
  },
  {
   "cell_type": "code",
   "execution_count": 63,
   "id": "a307d4c3",
   "metadata": {},
   "outputs": [],
   "source": [
    "cols = pd.concat([df[pca_cols], cat_columns_mca],axis=1) "
   ]
  },
  {
   "cell_type": "code",
   "execution_count": 64,
   "id": "ca4c77e8",
   "metadata": {},
   "outputs": [
    {
     "data": {
      "text/html": [
       "<div>\n",
       "<style scoped>\n",
       "    .dataframe tbody tr th:only-of-type {\n",
       "        vertical-align: middle;\n",
       "    }\n",
       "\n",
       "    .dataframe tbody tr th {\n",
       "        vertical-align: top;\n",
       "    }\n",
       "\n",
       "    .dataframe thead th {\n",
       "        text-align: right;\n",
       "    }\n",
       "</style>\n",
       "<table border=\"1\" class=\"dataframe\">\n",
       "  <thead>\n",
       "    <tr style=\"text-align: right;\">\n",
       "      <th></th>\n",
       "      <th>Rate Count</th>\n",
       "      <th>ABV</th>\n",
       "      <th>Rating</th>\n",
       "      <th>0</th>\n",
       "      <th>1</th>\n",
       "      <th>2</th>\n",
       "      <th>3</th>\n",
       "      <th>4</th>\n",
       "      <th>5</th>\n",
       "    </tr>\n",
       "  </thead>\n",
       "  <tbody>\n",
       "    <tr>\n",
       "      <th>0</th>\n",
       "      <td>1</td>\n",
       "      <td>0.139</td>\n",
       "      <td>5.0</td>\n",
       "      <td>-0.643494</td>\n",
       "      <td>0.217742</td>\n",
       "      <td>-0.080103</td>\n",
       "      <td>0.054769</td>\n",
       "      <td>-0.126748</td>\n",
       "      <td>-0.236955</td>\n",
       "    </tr>\n",
       "    <tr>\n",
       "      <th>1</th>\n",
       "      <td>1</td>\n",
       "      <td>0.145</td>\n",
       "      <td>5.0</td>\n",
       "      <td>-0.643494</td>\n",
       "      <td>0.217742</td>\n",
       "      <td>-0.080103</td>\n",
       "      <td>0.054769</td>\n",
       "      <td>-0.126748</td>\n",
       "      <td>-0.236955</td>\n",
       "    </tr>\n",
       "    <tr>\n",
       "      <th>2</th>\n",
       "      <td>1</td>\n",
       "      <td>0.142</td>\n",
       "      <td>5.0</td>\n",
       "      <td>-0.521087</td>\n",
       "      <td>-0.168381</td>\n",
       "      <td>-0.047913</td>\n",
       "      <td>0.030340</td>\n",
       "      <td>-0.308563</td>\n",
       "      <td>-0.245342</td>\n",
       "    </tr>\n",
       "    <tr>\n",
       "      <th>3</th>\n",
       "      <td>1</td>\n",
       "      <td>0.147</td>\n",
       "      <td>5.0</td>\n",
       "      <td>-0.626337</td>\n",
       "      <td>-0.122811</td>\n",
       "      <td>-0.079561</td>\n",
       "      <td>-0.001726</td>\n",
       "      <td>-0.596639</td>\n",
       "      <td>-0.317613</td>\n",
       "    </tr>\n",
       "    <tr>\n",
       "      <th>4</th>\n",
       "      <td>1</td>\n",
       "      <td>0.146</td>\n",
       "      <td>5.0</td>\n",
       "      <td>-0.626337</td>\n",
       "      <td>-0.122811</td>\n",
       "      <td>-0.079561</td>\n",
       "      <td>-0.001726</td>\n",
       "      <td>-0.596639</td>\n",
       "      <td>-0.317613</td>\n",
       "    </tr>\n",
       "  </tbody>\n",
       "</table>\n",
       "</div>"
      ],
      "text/plain": [
       "   Rate Count    ABV  Rating         0         1         2         3  \\\n",
       "0           1  0.139     5.0 -0.643494  0.217742 -0.080103  0.054769   \n",
       "1           1  0.145     5.0 -0.643494  0.217742 -0.080103  0.054769   \n",
       "2           1  0.142     5.0 -0.521087 -0.168381 -0.047913  0.030340   \n",
       "3           1  0.147     5.0 -0.626337 -0.122811 -0.079561 -0.001726   \n",
       "4           1  0.146     5.0 -0.626337 -0.122811 -0.079561 -0.001726   \n",
       "\n",
       "          4         5  \n",
       "0 -0.126748 -0.236955  \n",
       "1 -0.126748 -0.236955  \n",
       "2 -0.308563 -0.245342  \n",
       "3 -0.596639 -0.317613  \n",
       "4 -0.596639 -0.317613  "
      ]
     },
     "execution_count": 64,
     "metadata": {},
     "output_type": "execute_result"
    }
   ],
   "source": [
    "cols.head()"
   ]
  },
  {
   "cell_type": "markdown",
   "id": "9b355a19",
   "metadata": {},
   "source": [
    "# Standardizing the data"
   ]
  },
  {
   "cell_type": "code",
   "execution_count": 65,
   "id": "508397a4",
   "metadata": {},
   "outputs": [
    {
     "name": "stderr",
     "output_type": "stream",
     "text": [
      "C:\\Users\\Acer\\anaconda3\\lib\\site-packages\\sklearn\\utils\\validation.py:1858: FutureWarning: Feature names only support names that are all strings. Got feature names with dtypes: ['int', 'str']. An error will be raised in 1.2.\n",
      "  warnings.warn(\n",
      "C:\\Users\\Acer\\anaconda3\\lib\\site-packages\\sklearn\\utils\\validation.py:1858: FutureWarning: Feature names only support names that are all strings. Got feature names with dtypes: ['int', 'str']. An error will be raised in 1.2.\n",
      "  warnings.warn(\n"
     ]
    },
    {
     "data": {
      "text/plain": [
       "array([[-1.08696011e-01, -5.03215735e-03,  1.23524699e-01, ...,\n",
       "         9.29868535e-02, -2.22825254e-01, -4.75791400e-01],\n",
       "       [-1.08696011e-01,  1.48085784e-02,  1.23524699e-01, ...,\n",
       "         9.29868535e-02, -2.22825254e-01, -4.75791400e-01],\n",
       "       [-1.08696011e-01,  4.88821055e-03,  1.23524699e-01, ...,\n",
       "         5.15115028e-02, -5.42457049e-01, -4.92632276e-01],\n",
       "       ...,\n",
       "       [ 4.33495407e-01, -3.81000503e-02, -1.35534256e+00, ...,\n",
       "         5.15900971e-02, -2.56224846e-01, -3.36782289e-01],\n",
       "       [-1.08696011e-01, -5.13272075e-02,  1.23524699e-01, ...,\n",
       "         1.06032398e-01,  2.50217179e-01, -1.91665219e-01],\n",
       "       [-1.08696011e-01, -6.78611540e-02,  1.23524699e-01, ...,\n",
       "         8.17119735e+00, -1.80083927e+00,  2.82770522e-01]])"
      ]
     },
     "execution_count": 65,
     "metadata": {},
     "output_type": "execute_result"
    }
   ],
   "source": [
    "ssc=StandardScaler()\n",
    "mat_ssc=ssc.fit_transform(cols)\n",
    "mat_ssc"
   ]
  },
  {
   "cell_type": "code",
   "execution_count": 66,
   "id": "51395a26",
   "metadata": {},
   "outputs": [
    {
     "data": {
      "text/html": [
       "<div>\n",
       "<style scoped>\n",
       "    .dataframe tbody tr th:only-of-type {\n",
       "        vertical-align: middle;\n",
       "    }\n",
       "\n",
       "    .dataframe tbody tr th {\n",
       "        vertical-align: top;\n",
       "    }\n",
       "\n",
       "    .dataframe thead th {\n",
       "        text-align: right;\n",
       "    }\n",
       "</style>\n",
       "<table border=\"1\" class=\"dataframe\">\n",
       "  <thead>\n",
       "    <tr style=\"text-align: right;\">\n",
       "      <th></th>\n",
       "      <th>0</th>\n",
       "      <th>1</th>\n",
       "      <th>2</th>\n",
       "      <th>3</th>\n",
       "      <th>4</th>\n",
       "      <th>5</th>\n",
       "      <th>6</th>\n",
       "      <th>7</th>\n",
       "      <th>8</th>\n",
       "    </tr>\n",
       "  </thead>\n",
       "  <tbody>\n",
       "    <tr>\n",
       "      <th>0</th>\n",
       "      <td>-0.108696</td>\n",
       "      <td>-0.005032</td>\n",
       "      <td>0.123525</td>\n",
       "      <td>-0.798807</td>\n",
       "      <td>0.313692</td>\n",
       "      <td>-0.131883</td>\n",
       "      <td>0.092987</td>\n",
       "      <td>-0.222825</td>\n",
       "      <td>-0.475791</td>\n",
       "    </tr>\n",
       "    <tr>\n",
       "      <th>1</th>\n",
       "      <td>-0.108696</td>\n",
       "      <td>0.014809</td>\n",
       "      <td>0.123525</td>\n",
       "      <td>-0.798807</td>\n",
       "      <td>0.313692</td>\n",
       "      <td>-0.131883</td>\n",
       "      <td>0.092987</td>\n",
       "      <td>-0.222825</td>\n",
       "      <td>-0.475791</td>\n",
       "    </tr>\n",
       "    <tr>\n",
       "      <th>2</th>\n",
       "      <td>-0.108696</td>\n",
       "      <td>0.004888</td>\n",
       "      <td>0.123525</td>\n",
       "      <td>-0.646856</td>\n",
       "      <td>-0.242580</td>\n",
       "      <td>-0.078886</td>\n",
       "      <td>0.051512</td>\n",
       "      <td>-0.542457</td>\n",
       "      <td>-0.492632</td>\n",
       "    </tr>\n",
       "    <tr>\n",
       "      <th>3</th>\n",
       "      <td>-0.108696</td>\n",
       "      <td>0.021422</td>\n",
       "      <td>0.123525</td>\n",
       "      <td>-0.777509</td>\n",
       "      <td>-0.176928</td>\n",
       "      <td>-0.130991</td>\n",
       "      <td>-0.002931</td>\n",
       "      <td>-1.048899</td>\n",
       "      <td>-0.637749</td>\n",
       "    </tr>\n",
       "    <tr>\n",
       "      <th>4</th>\n",
       "      <td>-0.108696</td>\n",
       "      <td>0.018115</td>\n",
       "      <td>0.123525</td>\n",
       "      <td>-0.777509</td>\n",
       "      <td>-0.176928</td>\n",
       "      <td>-0.130991</td>\n",
       "      <td>-0.002931</td>\n",
       "      <td>-1.048899</td>\n",
       "      <td>-0.637749</td>\n",
       "    </tr>\n",
       "    <tr>\n",
       "      <th>...</th>\n",
       "      <td>...</td>\n",
       "      <td>...</td>\n",
       "      <td>...</td>\n",
       "      <td>...</td>\n",
       "      <td>...</td>\n",
       "      <td>...</td>\n",
       "      <td>...</td>\n",
       "      <td>...</td>\n",
       "      <td>...</td>\n",
       "    </tr>\n",
       "    <tr>\n",
       "      <th>6464</th>\n",
       "      <td>-0.108696</td>\n",
       "      <td>-0.034793</td>\n",
       "      <td>0.123525</td>\n",
       "      <td>1.247112</td>\n",
       "      <td>0.450809</td>\n",
       "      <td>-0.345800</td>\n",
       "      <td>0.025131</td>\n",
       "      <td>-0.473281</td>\n",
       "      <td>-0.158188</td>\n",
       "    </tr>\n",
       "    <tr>\n",
       "      <th>6465</th>\n",
       "      <td>-0.108696</td>\n",
       "      <td>-0.067861</td>\n",
       "      <td>0.123525</td>\n",
       "      <td>1.674951</td>\n",
       "      <td>0.661809</td>\n",
       "      <td>-0.453845</td>\n",
       "      <td>0.059471</td>\n",
       "      <td>-0.164876</td>\n",
       "      <td>-0.195412</td>\n",
       "    </tr>\n",
       "    <tr>\n",
       "      <th>6466</th>\n",
       "      <td>0.433495</td>\n",
       "      <td>-0.038100</td>\n",
       "      <td>-1.355343</td>\n",
       "      <td>1.278162</td>\n",
       "      <td>0.402960</td>\n",
       "      <td>-0.291188</td>\n",
       "      <td>0.051590</td>\n",
       "      <td>-0.256225</td>\n",
       "      <td>-0.336782</td>\n",
       "    </tr>\n",
       "    <tr>\n",
       "      <th>6467</th>\n",
       "      <td>-0.108696</td>\n",
       "      <td>-0.051327</td>\n",
       "      <td>0.123525</td>\n",
       "      <td>1.408815</td>\n",
       "      <td>0.337308</td>\n",
       "      <td>-0.239083</td>\n",
       "      <td>0.106032</td>\n",
       "      <td>0.250217</td>\n",
       "      <td>-0.191665</td>\n",
       "    </tr>\n",
       "    <tr>\n",
       "      <th>6468</th>\n",
       "      <td>-0.108696</td>\n",
       "      <td>-0.067861</td>\n",
       "      <td>0.123525</td>\n",
       "      <td>1.103383</td>\n",
       "      <td>1.392225</td>\n",
       "      <td>9.802100</td>\n",
       "      <td>8.171197</td>\n",
       "      <td>-1.800839</td>\n",
       "      <td>0.282771</td>\n",
       "    </tr>\n",
       "  </tbody>\n",
       "</table>\n",
       "<p>6469 rows × 9 columns</p>\n",
       "</div>"
      ],
      "text/plain": [
       "             0         1         2         3         4         5         6  \\\n",
       "0    -0.108696 -0.005032  0.123525 -0.798807  0.313692 -0.131883  0.092987   \n",
       "1    -0.108696  0.014809  0.123525 -0.798807  0.313692 -0.131883  0.092987   \n",
       "2    -0.108696  0.004888  0.123525 -0.646856 -0.242580 -0.078886  0.051512   \n",
       "3    -0.108696  0.021422  0.123525 -0.777509 -0.176928 -0.130991 -0.002931   \n",
       "4    -0.108696  0.018115  0.123525 -0.777509 -0.176928 -0.130991 -0.002931   \n",
       "...        ...       ...       ...       ...       ...       ...       ...   \n",
       "6464 -0.108696 -0.034793  0.123525  1.247112  0.450809 -0.345800  0.025131   \n",
       "6465 -0.108696 -0.067861  0.123525  1.674951  0.661809 -0.453845  0.059471   \n",
       "6466  0.433495 -0.038100 -1.355343  1.278162  0.402960 -0.291188  0.051590   \n",
       "6467 -0.108696 -0.051327  0.123525  1.408815  0.337308 -0.239083  0.106032   \n",
       "6468 -0.108696 -0.067861  0.123525  1.103383  1.392225  9.802100  8.171197   \n",
       "\n",
       "             7         8  \n",
       "0    -0.222825 -0.475791  \n",
       "1    -0.222825 -0.475791  \n",
       "2    -0.542457 -0.492632  \n",
       "3    -1.048899 -0.637749  \n",
       "4    -1.048899 -0.637749  \n",
       "...        ...       ...  \n",
       "6464 -0.473281 -0.158188  \n",
       "6465 -0.164876 -0.195412  \n",
       "6466 -0.256225 -0.336782  \n",
       "6467  0.250217 -0.191665  \n",
       "6468 -1.800839  0.282771  \n",
       "\n",
       "[6469 rows x 9 columns]"
      ]
     },
     "execution_count": 66,
     "metadata": {},
     "output_type": "execute_result"
    }
   ],
   "source": [
    "cols=pd.DataFrame(mat_ssc)\n",
    "cols"
   ]
  },
  {
   "cell_type": "markdown",
   "id": "2b6e0e6a",
   "metadata": {},
   "source": [
    "# Doing the PCA"
   ]
  },
  {
   "cell_type": "code",
   "execution_count": 67,
   "id": "e0d2bae7",
   "metadata": {},
   "outputs": [
    {
     "data": {
      "text/html": [
       "<div>\n",
       "<style scoped>\n",
       "    .dataframe tbody tr th:only-of-type {\n",
       "        vertical-align: middle;\n",
       "    }\n",
       "\n",
       "    .dataframe tbody tr th {\n",
       "        vertical-align: top;\n",
       "    }\n",
       "\n",
       "    .dataframe thead th {\n",
       "        text-align: right;\n",
       "    }\n",
       "</style>\n",
       "<table border=\"1\" class=\"dataframe\">\n",
       "  <thead>\n",
       "    <tr style=\"text-align: right;\">\n",
       "      <th></th>\n",
       "      <th>0</th>\n",
       "      <th>1</th>\n",
       "    </tr>\n",
       "  </thead>\n",
       "  <tbody>\n",
       "    <tr>\n",
       "      <th>0</th>\n",
       "      <td>-0.038506</td>\n",
       "      <td>0.533039</td>\n",
       "    </tr>\n",
       "    <tr>\n",
       "      <th>1</th>\n",
       "      <td>-0.039337</td>\n",
       "      <td>0.546792</td>\n",
       "    </tr>\n",
       "    <tr>\n",
       "      <th>2</th>\n",
       "      <td>-0.024955</td>\n",
       "      <td>0.640461</td>\n",
       "    </tr>\n",
       "    <tr>\n",
       "      <th>3</th>\n",
       "      <td>0.073646</td>\n",
       "      <td>0.827685</td>\n",
       "    </tr>\n",
       "    <tr>\n",
       "      <th>4</th>\n",
       "      <td>0.073785</td>\n",
       "      <td>0.825393</td>\n",
       "    </tr>\n",
       "  </tbody>\n",
       "</table>\n",
       "</div>"
      ],
      "text/plain": [
       "          0         1\n",
       "0 -0.038506  0.533039\n",
       "1 -0.039337  0.546792\n",
       "2 -0.024955  0.640461\n",
       "3  0.073646  0.827685\n",
       "4  0.073785  0.825393"
      ]
     },
     "execution_count": 67,
     "metadata": {},
     "output_type": "execute_result"
    }
   ],
   "source": [
    "#Setup our PCA, n_components control the number of the dimension\n",
    "pca =PCA(n_components = 2)\n",
    "#Training and transform our data\n",
    "pca.fit(cols)\n",
    "mpg_pca = pca.transform(cols)\n",
    "mpg_pca.head()"
   ]
  },
  {
   "cell_type": "code",
   "execution_count": 68,
   "id": "e7c17309",
   "metadata": {},
   "outputs": [
    {
     "data": {
      "text/plain": [
       "(-5.0, 15.0)"
      ]
     },
     "execution_count": 68,
     "metadata": {},
     "output_type": "execute_result"
    },
    {
     "data": {
      "image/png": "[encoded data removed]",
      "text/plain": [
       "<Figure size 432x432 with 1 Axes>"
      ]
     },
     "metadata": {
      "needs_background": "light"
     },
     "output_type": "display_data"
    }
   ],
   "source": [
    "ax = pca.plot_row_coordinates(cols, color_labels=Price)\n",
    "plt.ylim(-5,4)\n",
    "plt.xlim(-5,15)"
   ]
  },
  {
   "cell_type": "code",
   "execution_count": 69,
   "id": "d3fddb38",
   "metadata": {},
   "outputs": [
    {
     "data": {
      "text/plain": [
       "array([0.12150137, 0.11524858])"
      ]
     },
     "execution_count": 69,
     "metadata": {},
     "output_type": "execute_result"
    }
   ],
   "source": [
    "pca.explained_inertia_"
   ]
  }
 ],
 "metadata": {
  "kernelspec": {
   "display_name": "Python 3 (ipykernel)",
   "language": "python",
   "name": "python3"
  },
  "language_info": {
   "codemirror_mode": {
    "name": "ipython",
    "version": 3
   },
   "file_extension": ".py",
   "mimetype": "text/x-python",
   "name": "python",
   "nbconvert_exporter": "python",
   "pygments_lexer": "ipython3",
   "version": "3.9.12"
  }
 },
 "nbformat": 4,
 "nbformat_minor": 5
}
